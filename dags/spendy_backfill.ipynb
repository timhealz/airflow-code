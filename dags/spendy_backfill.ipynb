{
 "cells": [
  {
   "cell_type": "code",
   "execution_count": 1,
   "id": "b7363287-9b24-4f82-b506-313a92882199",
   "metadata": {},
   "outputs": [
    {
     "name": "stdout",
     "output_type": "stream",
     "text": [
      "[\u001b[34m2021-12-30 13:20:09,132\u001b[0m] {\u001b[34m96420819.py:\u001b[0m20} INFO\u001b[0m - Fetching data directory\u001b[0m\n"
     ]
    }
   ],
   "source": [
    "import json\n",
    "import logging\n",
    "import mintapi\n",
    "import os\n",
    "\n",
    "from typing import Dict\n",
    "\n",
    "from airflow.hooks.base import BaseHook\n",
    "from airflow.macros import ds_format\n",
    "from airflow.models import Variable\n",
    "\n",
    "from sqlalchemy.orm import sessionmaker\n",
    "\n",
    "from timhealz.common.utils import get_mysql_db_engine\n",
    "from timhealz.common.data_models.spendy import Transaction\n",
    "from timhealz.spendy import parse_transaction\n",
    "\n",
    "log = logging.getLogger(__name__)\n",
    "\n",
    "log.info(\"Fetching data directory\")\n",
    "DATA_DIR = Variable.get(\"MINT_DATA_DIRECTORY\")\n",
    "TRANSACTIONS_FP = os.path.join(DATA_DIR, \"transactions/{ds}.json\")"
   ]
  },
  {
   "cell_type": "code",
   "execution_count": 2,
   "id": "3d269cb2-129f-41ec-853e-e8d391493f00",
   "metadata": {},
   "outputs": [
    {
     "name": "stdout",
     "output_type": "stream",
     "text": [
      "[\u001b[34m2021-12-30 13:20:09,139\u001b[0m] {\u001b[34m2277532274.py:\u001b[0m1} INFO\u001b[0m - Fetching intuit credentials\u001b[0m\n",
      "[\u001b[34m2021-12-30 13:20:09,144\u001b[0m] {\u001b[34m2277532274.py:\u001b[0m4} INFO\u001b[0m - Initializing Mint session\u001b[0m\n"
     ]
    }
   ],
   "source": [
    "log.info(\"Fetching intuit credentials\")\n",
    "intuit_creds = BaseHook.get_connection(\"intuit-credentials\")\n",
    "\n",
    "log.info(\"Initializing Mint session\")\n",
    "mint = mintapi.Mint(\n",
    "    intuit_creds.login,\n",
    "    intuit_creds.password,\n",
    "    headless=True,\n",
    "    use_chromedriver_on_path=True,\n",
    ")"
   ]
  },
  {
   "cell_type": "code",
   "execution_count": 3,
   "id": "6fb32c05-36de-4edb-8b04-22bd7ece8720",
   "metadata": {},
   "outputs": [
    {
     "name": "stdout",
     "output_type": "stream",
     "text": [
      "[\u001b[34m2021-12-30 13:20:23,743\u001b[0m] {\u001b[34m1128300975.py:\u001b[0m1} INFO\u001b[0m - Getting transactions\u001b[0m\n"
     ]
    }
   ],
   "source": [
    "log.info(\"Getting transactions\")\n",
    "\n",
    "start_date = ds_format(\"2021-01-01\", \"%Y-%m-%d\", \"%m/%d/%y\")\n",
    "end_date = ds_format(\"2021-12-28\", \"%Y-%m-%d\", \"%m/%d/%y\")\n",
    "\n",
    "data = mint.get_transactions_json(\n",
    "    start_date=start_date, end_date=end_date\n",
    ")"
   ]
  },
  {
   "cell_type": "code",
   "execution_count": 4,
   "id": "e7ad5fcc-e41e-4efc-87de-4c23d12e682a",
   "metadata": {},
   "outputs": [],
   "source": [
    "transactions_clean = {}\n",
    "for i,transaction in enumerate(data):\n",
    "    try:\n",
    "        month, day = transaction[\"date\"].split()\n",
    "        ds = ds_format(f\"2021-{month}-{day}\",\"%Y-%b-%d\", \"%Y-%m-%d\")\n",
    "    except:\n",
    "        ds = ds_format(transaction[\"date\"], \"%m/%d/%y\", \"%Y-%m-%d\")\n",
    "\n",
    "    transactions_clean.setdefault(ds,[]).append(transaction)"
   ]
  },
  {
   "cell_type": "code",
   "execution_count": 5,
   "id": "6d1ef0bc-e370-4f34-bc6d-db2d81c00d0f",
   "metadata": {},
   "outputs": [
    {
     "name": "stdout",
     "output_type": "stream",
     "text": [
      "[\u001b[34m2021-12-30 13:20:35,630\u001b[0m] {\u001b[34m549145441.py:\u001b[0m1} INFO\u001b[0m - Dumping transactions json for 01/01/21 - 12/28/21\u001b[0m\n"
     ]
    }
   ],
   "source": [
    "log.info(f\"Dumping transactions json for {start_date} - {end_date}\")\n",
    "for ds, ds_transactions in transactions_clean.items():\n",
    "    fp = TRANSACTIONS_FP.format(ds=ds)    \n",
    "    with open(fp, \"w\") as out:\n",
    "        json.dump(ds_transactions, out, indent=4)"
   ]
  },
  {
   "cell_type": "code",
   "execution_count": 6,
   "id": "8053cf5e-cd88-4aa0-af03-72ae14a26f9a",
   "metadata": {},
   "outputs": [],
   "source": [
    "def insert_mint_transactions(transactions_clean):\n",
    "    Session = sessionmaker(bind=get_mysql_db_engine())\n",
    "    session = Session()\n",
    "    \n",
    "    for ds, ds_transactions in transactions_clean.items():\n",
    "        \n",
    "        log.info(f\"Clearing out data - {ds}\")\n",
    "        (\n",
    "            session.query(Transaction)\n",
    "                .filter(Transaction.ds == ds)\n",
    "                .delete(synchronize_session=False)\n",
    "        )\n",
    "        \n",
    "        log.info(f\"Loading transactions - {ds}\")\n",
    "        for transaction in ds_transactions:\n",
    "            session.add(parse_transaction(transaction=transaction, ds=ds))\n",
    "\n",
    "    session.commit()"
   ]
  },
  {
   "cell_type": "code",
   "execution_count": null,
   "id": "681cdf3d-7c86-4e73-a03f-836a947a7ca0",
   "metadata": {},
   "outputs": [],
   "source": [
    "insert_mint_transactions(transactions_clean)"
   ]
  }
 ],
 "metadata": {
  "kernelspec": {
   "display_name": "airflow",
   "language": "python",
   "name": "airflow"
  },
  "language_info": {
   "codemirror_mode": {
    "name": "ipython",
    "version": 3
   },
   "file_extension": ".py",
   "mimetype": "text/x-python",
   "name": "python",
   "nbconvert_exporter": "python",
   "pygments_lexer": "ipython3",
   "version": "3.8.10"
  }
 },
 "nbformat": 4,
 "nbformat_minor": 5
}
